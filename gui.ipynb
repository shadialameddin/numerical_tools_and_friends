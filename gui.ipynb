{
 "cells": [
  {
   "cell_type": "markdown",
   "metadata": {
    "collapsed": true,
    "pycharm": {
     "name": "#%% md\n"
    }
   },
   "source": [
    "## mobile apps\n",
    "\n",
    "https://flutter.dev/\n",
    "https://medium.com/flutter-community/flutter-for-desktop-create-and-run-a-desktop-application-ebeb1604f1e0\n",
    "https://www.smashingmagazine.com/2018/02/comprehensive-guide-to-mobile-app-design/\n",
    "\n",
    "https://fission.codes/\n",
    "\n",
    "\n",
    "## GUI\n",
    "\n",
    "https://www.youtube.com/watch?v=ELkaEpN29PU\n",
    "\n",
    "eel python gui\n",
    "https://nitratine.net/blog/post/python-gui-using-chrome/"
   ]
  }
 ],
 "metadata": {
  "kernelspec": {
   "display_name": "Python 3",
   "language": "python",
   "name": "python3"
  },
  "language_info": {
   "codemirror_mode": {
    "name": "ipython",
    "version": 2
   },
   "file_extension": ".py",
   "mimetype": "text/x-python",
   "name": "python",
   "nbconvert_exporter": "python",
   "pygments_lexer": "ipython2",
   "version": "2.7.6"
  }
 },
 "nbformat": 4,
 "nbformat_minor": 0
}