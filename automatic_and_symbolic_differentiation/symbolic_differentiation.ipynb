{
 "cells": [
  {
   "cell_type": "markdown",
   "metadata": {
    "collapsed": true,
    "pycharm": {
     "name": "#%% md\n"
    }
   },
   "source": [
    "[sympy](https://docs.sympy.org/latest/index.html)"
   ]
  },
  {
   "cell_type": "code",
   "execution_count": 3,
   "outputs": [
    {
     "data": {
      "text/plain": "Matrix([\n[cos(phi), -rho*sin(phi)],\n[sin(phi),  rho*cos(phi)],\n[   2*rho,             0]])",
      "text/latex": "$\\displaystyle \\left[\\begin{matrix}\\cos{\\left(\\phi \\right)} & - \\rho \\sin{\\left(\\phi \\right)}\\\\\\sin{\\left(\\phi \\right)} & \\rho \\cos{\\left(\\phi \\right)}\\\\2 \\rho & 0\\end{matrix}\\right]$"
     },
     "execution_count": 3,
     "metadata": {},
     "output_type": "execute_result"
    }
   ],
   "source": [
    "# pip install sympy\n",
    "# Jacobian https://docs.sympy.org/latest/modules/matrices/matrices.html\n",
    "\n",
    "from sympy import sin, cos, Matrix\n",
    "from sympy.abc import rho, phi\n",
    "X = Matrix([rho*cos(phi), rho*sin(phi), rho**2])\n",
    "Y = Matrix([rho, phi])\n",
    "X.jacobian(Y)"
   ],
   "metadata": {
    "collapsed": false,
    "pycharm": {
     "name": "#%%\n"
    }
   }
  },
  {
   "cell_type": "code",
   "execution_count": 4,
   "outputs": [
    {
     "data": {
      "text/plain": "Matrix([\n[cos(phi), -rho*sin(phi)],\n[sin(phi),  rho*cos(phi)]])",
      "text/latex": "$\\displaystyle \\left[\\begin{matrix}\\cos{\\left(\\phi \\right)} & - \\rho \\sin{\\left(\\phi \\right)}\\\\\\sin{\\left(\\phi \\right)} & \\rho \\cos{\\left(\\phi \\right)}\\end{matrix}\\right]$"
     },
     "execution_count": 4,
     "metadata": {},
     "output_type": "execute_result"
    }
   ],
   "source": [
    "X = Matrix([rho*cos(phi), rho*sin(phi)])\n",
    "X.jacobian(Y)"
   ],
   "metadata": {
    "collapsed": false,
    "pycharm": {
     "name": "#%%\n"
    }
   }
  },
  {
   "cell_type": "code",
   "execution_count": null,
   "outputs": [],
   "source": [],
   "metadata": {
    "collapsed": false,
    "pycharm": {
     "name": "#%% N-dim arrays https://docs.sympy.org/latest/modules/tensor/array.html\n"
    }
   }
  },
  {
   "cell_type": "code",
   "execution_count": 20,
   "outputs": [],
   "source": [
    "from sympy import MatrixSymbol, Matrix,diff\n",
    "X = MatrixSymbol('X', 3, 3)\n",
    "Y = MatrixSymbol('Y', 3, 3)\n",
    "Z = (X.T*X).I*Y"
   ],
   "metadata": {
    "collapsed": false,
    "pycharm": {
     "name": "#%% matrix expressions https://docs.sympy.org/latest/modules/matrices/expressions.html\n"
    }
   }
  },
  {
   "cell_type": "code",
   "execution_count": 24,
   "outputs": [
    {
     "data": {
      "text/plain": "A",
      "text/latex": "$\\displaystyle A$"
     },
     "execution_count": 24,
     "metadata": {},
     "output_type": "execute_result"
    }
   ],
   "source": [
    "Z = (X.T*Y)*X\n",
    "Z.diff(X).simplify()\n",
    "\n",
    "# from sympy import derive_by_array\n",
    "# derive_by_array(Z, X)\n",
    "\n",
    "n=5\n",
    "A = MatrixSymbol(\"A\", n, n)\n",
    "x = MatrixSymbol(\"x\", n, 1)\n",
    "diff(A.T*x, x)\n"
   ],
   "metadata": {
    "collapsed": false,
    "pycharm": {
     "name": "#%%\n"
    }
   }
  },
  {
   "cell_type": "code",
   "execution_count": 25,
   "outputs": [
    {
     "data": {
      "text/plain": "Derivative(A.T*x, x)",
      "text/latex": "$\\displaystyle \\frac{\\partial}{\\partial x} A^{T} x$"
     },
     "execution_count": 25,
     "metadata": {},
     "output_type": "execute_result"
    }
   ],
   "source": [
    "# https://github.com/sympy/sympy/issues/5858\n",
    "x = MatrixSymbol(\"x\", n, n)\n",
    "diff(A.T*x, x)"
   ],
   "metadata": {
    "collapsed": false,
    "pycharm": {
     "name": "#%% SymPy does not yet know matrix calculus;\n"
    }
   }
  }
 ],
 "metadata": {
  "kernelspec": {
   "display_name": "Python 3",
   "language": "python",
   "name": "python3"
  },
  "language_info": {
   "codemirror_mode": {
    "name": "ipython",
    "version": 2
   },
   "file_extension": ".py",
   "mimetype": "text/x-python",
   "name": "python",
   "nbconvert_exporter": "python",
   "pygments_lexer": "ipython2",
   "version": "2.7.6"
  }
 },
 "nbformat": 4,
 "nbformat_minor": 0
}