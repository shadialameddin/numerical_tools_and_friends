{
 "cells": [
  {
   "cell_type": "markdown",
   "metadata": {
    "collapsed": true,
    "pycharm": {
     "name": "#%% md\n"
    }
   },
   "source": [
    "# Symbolic matrix differentiation in sympy\n",
    "\n",
    "What it says on the tin!\n",
    "\n",
    "Many thanks to the author of https://zulko.wordpress.com/2012/04/15/symbolic-matrix-differentiation-with-sympy/ for laying out a much earlier version of this I have built on.\n",
    "\n",
    "\n",
    "##\n",
    "setup:\n",
    "\n",
    "sudo apt-get install python3-sympy\n",
    "\n",
    "(you can also use python2, but tab completion is nice)"
   ]
  },
  {
   "cell_type": "code",
   "execution_count": 7,
   "outputs": [
    {
     "name": "stdout",
     "output_type": "stream",
     "text": [
      "[a.T*d(a) + d(a).T*a]\n",
      "[a.T*X*d(a) + d(a).T*X*a]\n"
     ]
    }
   ],
   "source": [
    "from symbdiff import diff\n",
    "a=diff.MatrixSymbol('a',5,1)\n",
    "print(diff.matDiff(diff.Transpose(a)*a,a))\n",
    "\n",
    "X=diff.MatrixSymbol('X',5,5)\n",
    "print(diff.matDiff(diff.Transpose(a)*X*a,a))\n",
    "\n",
    "# /(a*diff.Transpose(a))\n",
    "# [d(a)*(X*a') + a*X*d(a)' + a*0*(a')]\n",
    "\n"
   ],
   "metadata": {
    "collapsed": false,
    "pycharm": {
     "name": "#%% Example usage:\n"
    }
   }
  }
 ],
 "metadata": {
  "kernelspec": {
   "display_name": "Python 3",
   "language": "python",
   "name": "python3"
  },
  "language_info": {
   "codemirror_mode": {
    "name": "ipython",
    "version": 2
   },
   "file_extension": ".py",
   "mimetype": "text/x-python",
   "name": "python",
   "nbconvert_exporter": "python",
   "pygments_lexer": "ipython2",
   "version": "2.7.6"
  }
 },
 "nbformat": 4,
 "nbformat_minor": 0
}