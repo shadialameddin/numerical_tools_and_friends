{
 "cells": [
  {
   "cell_type": "markdown",
   "metadata": {
    "collapsed": true,
    "pycharm": {
     "name": "#%% md\n"
    }
   },
   "source": [
    "# [pymp](https://github.com/classner/pymp)"
   ]
  },
  {
   "cell_type": "code",
   "execution_count": null,
   "outputs": [],
   "source": [
    "# !pip install pymp-pypi\n",
    "\n",
    "import pymp\n",
    "ex_array = pymp.shared.array((100,), dtype='uint8')\n",
    "with pymp.Parallel(4) as p:\n",
    "    for index in p.range(0, 100):\n",
    "        ex_array[index] = 1\n",
    "        # The parallel print function takes care of asynchronous output.\n",
    "        p.print('Yay! {} done!'.format(index))\n"
   ],
   "metadata": {
    "collapsed": false,
    "pycharm": {
     "name": "#%%\n"
    }
   }
  },
  {
   "cell_type": "code",
   "execution_count": 6,
   "outputs": [
    {
     "name": "stdout",
     "output_type": "stream",
     "text": [
      "4 1\n",
      "4 2\n",
      "4 3\n",
      "4 0\n"
     ]
    }
   ],
   "source": [
    "with pymp.Parallel(4) as p:\n",
    "    p.print(p.num_threads, p.thread_num)"
   ],
   "metadata": {
    "collapsed": false,
    "pycharm": {
     "name": "#%%\n"
    }
   }
  }
 ],
 "metadata": {
  "kernelspec": {
   "display_name": "Python 3",
   "language": "python",
   "name": "python3"
  },
  "language_info": {
   "codemirror_mode": {
    "name": "ipython",
    "version": 2
   },
   "file_extension": ".py",
   "mimetype": "text/x-python",
   "name": "python",
   "nbconvert_exporter": "python",
   "pygments_lexer": "ipython2",
   "version": "2.7.6"
  }
 },
 "nbformat": 4,
 "nbformat_minor": 0
}