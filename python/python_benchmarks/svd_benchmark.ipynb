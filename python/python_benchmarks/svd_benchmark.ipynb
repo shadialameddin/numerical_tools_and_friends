{
  "nbformat": 4,
  "nbformat_minor": 0,
  "metadata": {
    "kernelspec": {
      "display_name": "venv37-jax",
      "language": "python",
      "name": "venv37-jax"
    },
    "language_info": {
      "codemirror_mode": {
        "name": "ipython",
        "version": 3
      },
      "file_extension": ".py",
      "mimetype": "text/x-python",
      "name": "python",
      "nbconvert_exporter": "python",
      "pygments_lexer": "ipython3",
      "version": "3.7.1"
    },
    "colab": {
      "name": "SVD_benchmark.ipynb",
      "provenance": []
    },
    "accelerator": "TPU"
  },
  "cells": [
    {
      "cell_type": "code",
      "metadata": {
        "id": "yEnff0DvsLU4",
        "colab_type": "code",
        "colab": {}
      },
      "source": [
        "import numpy as np\n",
        "import pandas as pd\n",
        "import scipy.linalg\n",
        "import scipy.sparse as sp\n",
        "\n",
        "import jax.numpy as jnp\n",
        "import jax.scipy as jsp\n",
        "from jax import random, jit"
      ],
      "execution_count": 0,
      "outputs": []
    },
    {
      "cell_type": "code",
      "metadata": {
        "id": "mIcwDMXKsLU6",
        "colab_type": "code",
        "colab": {}
      },
      "source": [
        "import matplotlib.pyplot as plt\n",
        "%matplotlib inline\n",
        "import seaborn as sns\n",
        "sns.set_context('notebook')"
      ],
      "execution_count": 0,
      "outputs": []
    },
    {
      "cell_type": "code",
      "metadata": {
        "id": "DL1VndsNsLU7",
        "colab_type": "code",
        "outputId": "284446b6-15d3-47a4-9999-79871e299927",
        "colab": {
          "base_uri": "https://localhost:8080/",
          "height": 68
        }
      },
      "source": [
        "import jax, scipy\n",
        "\n",
        "print('jax version:', jax.__version__)\n",
        "print('numpy version:', np.__version__)\n",
        "print('scipy version:', scipy.__version__)"
      ],
      "execution_count": 0,
      "outputs": [
        {
          "output_type": "stream",
          "text": [
            "jax version: 0.1.43\n",
            "numpy version: 1.16.4\n",
            "scipy version: 1.3.1\n"
          ],
          "name": "stdout"
        }
      ]
    },
    {
      "cell_type": "code",
      "metadata": {
        "id": "ojhdNUmlsLU-",
        "colab_type": "code",
        "outputId": "2791a75a-550b-410a-d8a4-9fa917da3ee7",
        "colab": {
          "base_uri": "https://localhost:8080/",
          "height": 459
        }
      },
      "source": [
        "np.show_config()"
      ],
      "execution_count": 0,
      "outputs": [
        {
          "output_type": "stream",
          "text": [
            "blas_mkl_info:\n",
            "  NOT AVAILABLE\n",
            "blis_info:\n",
            "  NOT AVAILABLE\n",
            "openblas_info:\n",
            "    libraries = ['openblas', 'openblas']\n",
            "    library_dirs = ['/usr/local/lib']\n",
            "    language = c\n",
            "    define_macros = [('HAVE_CBLAS', None)]\n",
            "blas_opt_info:\n",
            "    libraries = ['openblas', 'openblas']\n",
            "    library_dirs = ['/usr/local/lib']\n",
            "    language = c\n",
            "    define_macros = [('HAVE_CBLAS', None)]\n",
            "lapack_mkl_info:\n",
            "  NOT AVAILABLE\n",
            "openblas_lapack_info:\n",
            "    libraries = ['openblas', 'openblas']\n",
            "    library_dirs = ['/usr/local/lib']\n",
            "    language = c\n",
            "    define_macros = [('HAVE_CBLAS', None)]\n",
            "lapack_opt_info:\n",
            "    libraries = ['openblas', 'openblas']\n",
            "    library_dirs = ['/usr/local/lib']\n",
            "    language = c\n",
            "    define_macros = [('HAVE_CBLAS', None)]\n"
          ],
          "name": "stdout"
        }
      ]
    },
    {
      "cell_type": "code",
      "metadata": {
        "scrolled": true,
        "id": "CMcNXX0bsLVA",
        "colab_type": "code",
        "colab": {}
      },
      "source": [
        "# @ref: https://stackoverflow.com/questions/38559755/how-to-get-current-available-gpus-in-tensorflow\n",
        "from tensorflow.python.client import device_lib\n",
        "\n",
        "def get_available_gpus():\n",
        "    local_device_protos = device_lib.list_local_devices()\n",
        "    return [x.name for x in local_device_protos if x.device_type == 'GPU']"
      ],
      "execution_count": 0,
      "outputs": []
    },
    {
      "cell_type": "code",
      "metadata": {
        "id": "NW5X_aZ7sLVB",
        "colab_type": "code",
        "outputId": "f3248977-b0ae-4c3d-a885-95fab5d0bcef",
        "colab": {
          "base_uri": "https://localhost:8080/",
          "height": 34
        }
      },
      "source": [
        "get_available_gpus()"
      ],
      "execution_count": 0,
      "outputs": [
        {
          "output_type": "execute_result",
          "data": {
            "text/plain": [
              "[]"
            ]
          },
          "metadata": {
            "tags": []
          },
          "execution_count": 6
        }
      ]
    },
    {
      "cell_type": "markdown",
      "metadata": {
        "id": "E4G2s1KmsLVD",
        "colab_type": "text"
      },
      "source": [
        "# JAX demo"
      ]
    },
    {
      "cell_type": "code",
      "metadata": {
        "id": "SI-ekmFgsLVE",
        "colab_type": "code",
        "colab": {}
      },
      "source": [
        "def slow_f(x):\n",
        "  # Element-wise ops see a large benefit from fusion\n",
        "  return x * x + x * 2.0\n",
        "\n",
        "# use XLA to compile the function\n",
        "fast_f = jit(slow_f)"
      ],
      "execution_count": 0,
      "outputs": []
    },
    {
      "cell_type": "code",
      "metadata": {
        "id": "zgPHxHG9sLVF",
        "colab_type": "code",
        "outputId": "d6d0d64f-8928-40b9-cde3-a3ea869034f5",
        "colab": {
          "base_uri": "https://localhost:8080/",
          "height": 34
        }
      },
      "source": [
        "x = np.ones((5000, 5000))\n",
        "type(x) # numpy.ndarray"
      ],
      "execution_count": 0,
      "outputs": [
        {
          "output_type": "execute_result",
          "data": {
            "text/plain": [
              "numpy.ndarray"
            ]
          },
          "metadata": {
            "tags": []
          },
          "execution_count": 8
        }
      ]
    },
    {
      "cell_type": "code",
      "metadata": {
        "id": "5LCCyrGpsLVH",
        "colab_type": "code",
        "outputId": "3449bc14-f881-4376-f19c-1116f2cf41c9",
        "colab": {
          "base_uri": "https://localhost:8080/",
          "height": 85
        }
      },
      "source": [
        "%%timeit \n",
        "fast_f(x)"
      ],
      "execution_count": 0,
      "outputs": [
        {
          "output_type": "stream",
          "text": [
            "/usr/local/lib/python3.6/dist-packages/jax/lib/xla_bridge.py:109: UserWarning: No GPU/TPU found, falling back to CPU.\n",
            "  warnings.warn('No GPU/TPU found, falling back to CPU.')\n"
          ],
          "name": "stderr"
        },
        {
          "output_type": "stream",
          "text": [
            "The slowest run took 20.42 times longer than the fastest. This could mean that an intermediate result is being cached.\n",
            "1 loop, best of 3: 54.6 ms per loop\n"
          ],
          "name": "stdout"
        }
      ]
    },
    {
      "cell_type": "code",
      "metadata": {
        "id": "wnnCPBXWsLVJ",
        "colab_type": "code",
        "outputId": "5895b196-df37-48ed-f801-6ad1d928f011",
        "colab": {
          "base_uri": "https://localhost:8080/",
          "height": 34
        }
      },
      "source": [
        "%%timeit \n",
        "slow_f(x)"
      ],
      "execution_count": 0,
      "outputs": [
        {
          "output_type": "stream",
          "text": [
            "1 loop, best of 3: 152 ms per loop\n"
          ],
          "name": "stdout"
        }
      ]
    },
    {
      "cell_type": "code",
      "metadata": {
        "id": "QPwdjdDesLVL",
        "colab_type": "code",
        "outputId": "ff2da8b7-ba4a-4bb6-a416-52af5cfe2700",
        "colab": {
          "base_uri": "https://localhost:8080/",
          "height": 34
        }
      },
      "source": [
        "x_j = jnp.ones((5000, 5000))\n",
        "type(x_j)"
      ],
      "execution_count": 0,
      "outputs": [
        {
          "output_type": "execute_result",
          "data": {
            "text/plain": [
              "jax.lax.lax._FilledConstant"
            ]
          },
          "metadata": {
            "tags": []
          },
          "execution_count": 11
        }
      ]
    },
    {
      "cell_type": "code",
      "metadata": {
        "id": "-5kkW-VdsLVN",
        "colab_type": "code",
        "outputId": "9e6b7a27-2ca6-4c98-cf3e-dafcd54c8f82",
        "colab": {
          "base_uri": "https://localhost:8080/",
          "height": 34
        }
      },
      "source": [
        "%%timeit \n",
        "fast_f(x_j)"
      ],
      "execution_count": 0,
      "outputs": [
        {
          "output_type": "stream",
          "text": [
            "10 loops, best of 3: 37.8 ms per loop\n"
          ],
          "name": "stdout"
        }
      ]
    },
    {
      "cell_type": "code",
      "metadata": {
        "id": "o2WiJHTvsLVP",
        "colab_type": "code",
        "outputId": "c74d69be-c334-4904-95d2-4dd2c443e3d7",
        "colab": {
          "base_uri": "https://localhost:8080/",
          "height": 34
        }
      },
      "source": [
        "%%timeit \n",
        "slow_f(x_j)"
      ],
      "execution_count": 0,
      "outputs": [
        {
          "output_type": "stream",
          "text": [
            "1 loop, best of 3: 149 ms per loop\n"
          ],
          "name": "stdout"
        }
      ]
    },
    {
      "cell_type": "markdown",
      "metadata": {
        "id": "lCThMyPrsLVR",
        "colab_type": "text"
      },
      "source": [
        "# Full SVD for dense matrix"
      ]
    },
    {
      "cell_type": "code",
      "metadata": {
        "id": "bPLMr07fsLVR",
        "colab_type": "code",
        "colab": {}
      },
      "source": [
        "def jnp_svd(X):\n",
        "    # Compute full SVD\n",
        "    U, Sigma, Vh = jnp.linalg.svd(X, \n",
        "                                  full_matrices=False, # It's not necessary to compute the full matrix of U or V\n",
        "                                  compute_uv=True,\n",
        "                                 )\n",
        "    return U, Sigma, Vh\n",
        "\n",
        "def jsp_svd(X):\n",
        "    U, Sigma, Vh = jsp.linalg.svd(X, \n",
        "                                  full_matrices=False,\n",
        "                                  compute_uv=True,\n",
        "                                  check_finite=False,\n",
        "                                  overwrite_a=True\n",
        "                                 )\n",
        "    return U, Sigma, Vh\n",
        "    \n",
        "\n",
        "def np_svd(X):\n",
        "    U, Sigma, Vh = np.linalg.svd(X,\n",
        "                                 full_matrices=False,\n",
        "                                 compute_uv=True\n",
        "                                )\n",
        "    return U, Sigma, Vh\n",
        "\n",
        "def scipy_svd(X):\n",
        "    U, Sigma, Vh = scipy.linalg.svd(X,\n",
        "                                    full_matrices=False,\n",
        "                                    compute_uv=True,\n",
        "                                    check_finite=False,\n",
        "                                    overwrite_a=True\n",
        "                                )\n",
        "    return U, Sigma, Vh\n",
        "\n",
        "def scipy_gesvd(X):\n",
        "    U, Sigma, Vh = scipy.linalg.svd(X,\n",
        "                                    full_matrices=False,\n",
        "                                    compute_uv=True,\n",
        "                                    check_finite=False,\n",
        "                                    overwrite_a=True,\n",
        "                                    lapack_driver='gesvd'\n",
        "                                )\n",
        "    return U, Sigma, Vh\n",
        "    "
      ],
      "execution_count": 0,
      "outputs": []
    },
    {
      "cell_type": "code",
      "metadata": {
        "id": "-JO3yy--sLVT",
        "colab_type": "code",
        "colab": {}
      },
      "source": [
        "from time import time\n",
        "\n",
        "def time_func(func, n_trials, *args, **kwargs):\n",
        "    times = []\n",
        "    for i in range(n_trials):\n",
        "        t0 = time()\n",
        "        res = func(*args, **kwargs)\n",
        "        tt = time()\n",
        "        t = tt - t0\n",
        "        times.append(t)\n",
        "    return np.asarray(times)\n",
        "\n",
        "def time_svd_funcs(funcs, Ns=[200, 500, 1000, 2000], n_trials=7):\n",
        "    results = []\n",
        "    key = random.PRNGKey(42)\n",
        "    for N in Ns:\n",
        "        # generate random matrix as input\n",
        "        X = random.normal(key, (N, N))\n",
        "        for func in funcs:\n",
        "            times = time_func(func, n_trials, X)\n",
        "            \n",
        "            results.extend([{\n",
        "                'time': t, \n",
        "                'N': N,\n",
        "                'func_name': func.__name__,\n",
        "                } for t in times])\n",
        "    return pd.DataFrame(results)"
      ],
      "execution_count": 0,
      "outputs": []
    },
    {
      "cell_type": "code",
      "metadata": {
        "scrolled": true,
        "id": "SzwYjPhAsLVW",
        "colab_type": "code",
        "colab": {}
      },
      "source": [
        "results = time_svd_funcs([np_svd, scipy_svd, scipy_gesvd], \n",
        "                         Ns=[200, 500, 1000, 2000]\n",
        "                        )"
      ],
      "execution_count": 0,
      "outputs": []
    },
    {
      "cell_type": "code",
      "metadata": {
        "id": "8E96aFggsLVY",
        "colab_type": "code",
        "outputId": "70260b4b-3b50-4d8b-faa7-592ae7241da6",
        "colab": {
          "base_uri": "https://localhost:8080/",
          "height": 34
        }
      },
      "source": [
        "results.shape"
      ],
      "execution_count": 0,
      "outputs": [
        {
          "output_type": "execute_result",
          "data": {
            "text/plain": [
              "(84, 3)"
            ]
          },
          "metadata": {
            "tags": []
          },
          "execution_count": 17
        }
      ]
    },
    {
      "cell_type": "code",
      "metadata": {
        "id": "AXZJdS2_sLVZ",
        "colab_type": "code",
        "outputId": "856f3d5c-85c4-4d35-9241-21209eaa621e",
        "colab": {
          "base_uri": "https://localhost:8080/",
          "height": 483
        }
      },
      "source": [
        "results.groupby(['N', 'func_name']).agg([np.mean, np.std])"
      ],
      "execution_count": 0,
      "outputs": [
        {
          "output_type": "execute_result",
          "data": {
            "text/html": [
              "<div>\n",
              "<style scoped>\n",
              "    .dataframe tbody tr th:only-of-type {\n",
              "        vertical-align: middle;\n",
              "    }\n",
              "\n",
              "    .dataframe tbody tr th {\n",
              "        vertical-align: top;\n",
              "    }\n",
              "\n",
              "    .dataframe thead tr th {\n",
              "        text-align: left;\n",
              "    }\n",
              "\n",
              "    .dataframe thead tr:last-of-type th {\n",
              "        text-align: right;\n",
              "    }\n",
              "</style>\n",
              "<table border=\"1\" class=\"dataframe\">\n",
              "  <thead>\n",
              "    <tr>\n",
              "      <th></th>\n",
              "      <th></th>\n",
              "      <th colspan=\"2\" halign=\"left\">time</th>\n",
              "    </tr>\n",
              "    <tr>\n",
              "      <th></th>\n",
              "      <th></th>\n",
              "      <th>mean</th>\n",
              "      <th>std</th>\n",
              "    </tr>\n",
              "    <tr>\n",
              "      <th>N</th>\n",
              "      <th>func_name</th>\n",
              "      <th></th>\n",
              "      <th></th>\n",
              "    </tr>\n",
              "  </thead>\n",
              "  <tbody>\n",
              "    <tr>\n",
              "      <th rowspan=\"3\" valign=\"top\">200</th>\n",
              "      <th>np_svd</th>\n",
              "      <td>0.022725</td>\n",
              "      <td>0.016504</td>\n",
              "    </tr>\n",
              "    <tr>\n",
              "      <th>scipy_gesvd</th>\n",
              "      <td>0.045172</td>\n",
              "      <td>0.001424</td>\n",
              "    </tr>\n",
              "    <tr>\n",
              "      <th>scipy_svd</th>\n",
              "      <td>0.015765</td>\n",
              "      <td>0.010344</td>\n",
              "    </tr>\n",
              "    <tr>\n",
              "      <th rowspan=\"3\" valign=\"top\">500</th>\n",
              "      <th>np_svd</th>\n",
              "      <td>0.125901</td>\n",
              "      <td>0.004225</td>\n",
              "    </tr>\n",
              "    <tr>\n",
              "      <th>scipy_gesvd</th>\n",
              "      <td>0.432476</td>\n",
              "      <td>0.003697</td>\n",
              "    </tr>\n",
              "    <tr>\n",
              "      <th>scipy_svd</th>\n",
              "      <td>0.089805</td>\n",
              "      <td>0.000724</td>\n",
              "    </tr>\n",
              "    <tr>\n",
              "      <th rowspan=\"3\" valign=\"top\">1000</th>\n",
              "      <th>np_svd</th>\n",
              "      <td>0.828589</td>\n",
              "      <td>0.024165</td>\n",
              "    </tr>\n",
              "    <tr>\n",
              "      <th>scipy_gesvd</th>\n",
              "      <td>3.549135</td>\n",
              "      <td>0.053115</td>\n",
              "    </tr>\n",
              "    <tr>\n",
              "      <th>scipy_svd</th>\n",
              "      <td>0.528527</td>\n",
              "      <td>0.003154</td>\n",
              "    </tr>\n",
              "    <tr>\n",
              "      <th rowspan=\"3\" valign=\"top\">2000</th>\n",
              "      <th>np_svd</th>\n",
              "      <td>6.175623</td>\n",
              "      <td>0.053947</td>\n",
              "    </tr>\n",
              "    <tr>\n",
              "      <th>scipy_gesvd</th>\n",
              "      <td>54.479678</td>\n",
              "      <td>0.221581</td>\n",
              "    </tr>\n",
              "    <tr>\n",
              "      <th>scipy_svd</th>\n",
              "      <td>3.548271</td>\n",
              "      <td>0.027179</td>\n",
              "    </tr>\n",
              "  </tbody>\n",
              "</table>\n",
              "</div>"
            ],
            "text/plain": [
              "                       time          \n",
              "                       mean       std\n",
              "N    func_name                       \n",
              "200  np_svd        0.022725  0.016504\n",
              "     scipy_gesvd   0.045172  0.001424\n",
              "     scipy_svd     0.015765  0.010344\n",
              "500  np_svd        0.125901  0.004225\n",
              "     scipy_gesvd   0.432476  0.003697\n",
              "     scipy_svd     0.089805  0.000724\n",
              "1000 np_svd        0.828589  0.024165\n",
              "     scipy_gesvd   3.549135  0.053115\n",
              "     scipy_svd     0.528527  0.003154\n",
              "2000 np_svd        6.175623  0.053947\n",
              "     scipy_gesvd  54.479678  0.221581\n",
              "     scipy_svd     3.548271  0.027179"
            ]
          },
          "metadata": {
            "tags": []
          },
          "execution_count": 18
        }
      ]
    },
    {
      "cell_type": "code",
      "metadata": {
        "id": "KSZp6PSvsLVb",
        "colab_type": "code",
        "outputId": "852712b1-8f87-4b58-d10c-63c6a9a904a5",
        "colab": {
          "base_uri": "https://localhost:8080/",
          "height": 291
        }
      },
      "source": [
        "ax = sns.lineplot(x='N', y='time', hue='func_name',\n",
        "                  marker='o',\n",
        "                  data=results)\n",
        "ax.set_ylabel('Time (seconds)')\n",
        "ax.set_xlabel('$n$')\n",
        "ax.set_yscale('log')\n",
        "# ax.set_xscale('log')"
      ],
      "execution_count": 0,
      "outputs": [
        {
          "output_type": "display_data",
          "data": {
            "image/png": "[encoded data removed]",
            "text/plain": [
              "<Figure size 432x288 with 1 Axes>"
            ]
          },
          "metadata": {
            "tags": []
          }
        }
      ]
    },
    {
      "cell_type": "code",
      "metadata": {
        "id": "ouVbOPX-sLVe",
        "colab_type": "code",
        "colab": {}
      },
      "source": [
        ""
      ],
      "execution_count": 0,
      "outputs": []
    },
    {
      "cell_type": "code",
      "metadata": {
        "id": "MVXT1f00sLVh",
        "colab_type": "code",
        "colab": {}
      },
      "source": [
        "results = time_svd_funcs([jnp_svd, jsp_svd, \n",
        "                          np_svd, scipy_svd\n",
        "                         ], \n",
        "                         Ns=[200, 500, 1000, 2000]\n",
        "                        )"
      ],
      "execution_count": 0,
      "outputs": []
    },
    {
      "cell_type": "code",
      "metadata": {
        "id": "TVxXHlYAsLVj",
        "colab_type": "code",
        "outputId": "f77190d9-2a1c-461d-e445-3d09c648bf70",
        "colab": {
          "base_uri": "https://localhost:8080/",
          "height": 607
        }
      },
      "source": [
        "results.groupby(['N', 'func_name']).agg([np.mean, np.std])"
      ],
      "execution_count": 0,
      "outputs": [
        {
          "output_type": "execute_result",
          "data": {
            "text/html": [
              "<div>\n",
              "<style scoped>\n",
              "    .dataframe tbody tr th:only-of-type {\n",
              "        vertical-align: middle;\n",
              "    }\n",
              "\n",
              "    .dataframe tbody tr th {\n",
              "        vertical-align: top;\n",
              "    }\n",
              "\n",
              "    .dataframe thead tr th {\n",
              "        text-align: left;\n",
              "    }\n",
              "\n",
              "    .dataframe thead tr:last-of-type th {\n",
              "        text-align: right;\n",
              "    }\n",
              "</style>\n",
              "<table border=\"1\" class=\"dataframe\">\n",
              "  <thead>\n",
              "    <tr>\n",
              "      <th></th>\n",
              "      <th></th>\n",
              "      <th colspan=\"2\" halign=\"left\">time</th>\n",
              "    </tr>\n",
              "    <tr>\n",
              "      <th></th>\n",
              "      <th></th>\n",
              "      <th>mean</th>\n",
              "      <th>std</th>\n",
              "    </tr>\n",
              "    <tr>\n",
              "      <th>N</th>\n",
              "      <th>func_name</th>\n",
              "      <th></th>\n",
              "      <th></th>\n",
              "    </tr>\n",
              "  </thead>\n",
              "  <tbody>\n",
              "    <tr>\n",
              "      <th rowspan=\"4\" valign=\"top\">200</th>\n",
              "      <th>jnp_svd</th>\n",
              "      <td>0.007721</td>\n",
              "      <td>0.019959</td>\n",
              "    </tr>\n",
              "    <tr>\n",
              "      <th>jsp_svd</th>\n",
              "      <td>0.000147</td>\n",
              "      <td>0.000024</td>\n",
              "    </tr>\n",
              "    <tr>\n",
              "      <th>np_svd</th>\n",
              "      <td>0.194512</td>\n",
              "      <td>0.287473</td>\n",
              "    </tr>\n",
              "    <tr>\n",
              "      <th>scipy_svd</th>\n",
              "      <td>0.204851</td>\n",
              "      <td>0.326828</td>\n",
              "    </tr>\n",
              "    <tr>\n",
              "      <th rowspan=\"4\" valign=\"top\">500</th>\n",
              "      <th>jnp_svd</th>\n",
              "      <td>0.017467</td>\n",
              "      <td>0.045703</td>\n",
              "    </tr>\n",
              "    <tr>\n",
              "      <th>jsp_svd</th>\n",
              "      <td>0.000112</td>\n",
              "      <td>0.000012</td>\n",
              "    </tr>\n",
              "    <tr>\n",
              "      <th>np_svd</th>\n",
              "      <td>0.696224</td>\n",
              "      <td>0.310920</td>\n",
              "    </tr>\n",
              "    <tr>\n",
              "      <th>scipy_svd</th>\n",
              "      <td>0.434062</td>\n",
              "      <td>0.406623</td>\n",
              "    </tr>\n",
              "    <tr>\n",
              "      <th rowspan=\"4\" valign=\"top\">1000</th>\n",
              "      <th>jnp_svd</th>\n",
              "      <td>0.025031</td>\n",
              "      <td>0.065530</td>\n",
              "    </tr>\n",
              "    <tr>\n",
              "      <th>jsp_svd</th>\n",
              "      <td>0.000114</td>\n",
              "      <td>0.000018</td>\n",
              "    </tr>\n",
              "    <tr>\n",
              "      <th>np_svd</th>\n",
              "      <td>4.196005</td>\n",
              "      <td>1.273682</td>\n",
              "    </tr>\n",
              "    <tr>\n",
              "      <th>scipy_svd</th>\n",
              "      <td>2.173959</td>\n",
              "      <td>1.418268</td>\n",
              "    </tr>\n",
              "    <tr>\n",
              "      <th rowspan=\"4\" valign=\"top\">2000</th>\n",
              "      <th>jnp_svd</th>\n",
              "      <td>0.015669</td>\n",
              "      <td>0.041100</td>\n",
              "    </tr>\n",
              "    <tr>\n",
              "      <th>jsp_svd</th>\n",
              "      <td>0.000110</td>\n",
              "      <td>0.000013</td>\n",
              "    </tr>\n",
              "    <tr>\n",
              "      <th>np_svd</th>\n",
              "      <td>29.288250</td>\n",
              "      <td>1.871482</td>\n",
              "    </tr>\n",
              "    <tr>\n",
              "      <th>scipy_svd</th>\n",
              "      <td>10.035229</td>\n",
              "      <td>6.609214</td>\n",
              "    </tr>\n",
              "  </tbody>\n",
              "</table>\n",
              "</div>"
            ],
            "text/plain": [
              "                     time          \n",
              "                     mean       std\n",
              "N    func_name                     \n",
              "200  jnp_svd     0.007721  0.019959\n",
              "     jsp_svd     0.000147  0.000024\n",
              "     np_svd      0.194512  0.287473\n",
              "     scipy_svd   0.204851  0.326828\n",
              "500  jnp_svd     0.017467  0.045703\n",
              "     jsp_svd     0.000112  0.000012\n",
              "     np_svd      0.696224  0.310920\n",
              "     scipy_svd   0.434062  0.406623\n",
              "1000 jnp_svd     0.025031  0.065530\n",
              "     jsp_svd     0.000114  0.000018\n",
              "     np_svd      4.196005  1.273682\n",
              "     scipy_svd   2.173959  1.418268\n",
              "2000 jnp_svd     0.015669  0.041100\n",
              "     jsp_svd     0.000110  0.000013\n",
              "     np_svd     29.288250  1.871482\n",
              "     scipy_svd  10.035229  6.609214"
            ]
          },
          "metadata": {
            "tags": []
          },
          "execution_count": 21
        }
      ]
    },
    {
      "cell_type": "code",
      "metadata": {
        "id": "sFkfaSHbsgjH",
        "colab_type": "code",
        "outputId": "aa5665c2-e052-46b1-e4be-aed738af4223",
        "colab": {
          "base_uri": "https://localhost:8080/",
          "height": 291
        }
      },
      "source": [
        "ax = sns.lineplot(x='N', y='time', hue='func_name',\n",
        "                  marker='o',\n",
        "                  data=results)\n",
        "ax.set_ylabel('Time (seconds)')\n",
        "ax.set_xlabel('$n$')\n",
        "ax.set_yscale('log')"
      ],
      "execution_count": 0,
      "outputs": [
        {
          "output_type": "display_data",
          "data": {
            "image/png": "[encoded data removed]",
            "text/plain": [
              "<Figure size 432x288 with 1 Axes>"
            ]
          },
          "metadata": {
            "tags": []
          }
        }
      ]
    },
    {
      "cell_type": "code",
      "metadata": {
        "id": "Ko_5N3w-sLVm",
        "colab_type": "code",
        "colab": {}
      },
      "source": [
        "# Compute jax function with JIT\n",
        "jit_jnp_svd = jit(jnp_svd)\n",
        "jit_jsp_svd = jit(jsp_svd)"
      ],
      "execution_count": 0,
      "outputs": []
    },
    {
      "cell_type": "code",
      "metadata": {
        "id": "kZ4N74wusLVp",
        "colab_type": "code",
        "colab": {}
      },
      "source": [
        "def time_svd(svd_func, n_trials=7, N=200):\n",
        "    times = []\n",
        "    for i in range(n_trials):\n",
        "        # generate a random input matrix every trail to prevent \n",
        "        # jax from caching the results\n",
        "        key = random.PRNGKey(np.random.randint(0, 1000))\n",
        "        X = random.normal(key, (N, N))\n",
        "        t0 = time()\n",
        "        res = svd_func(X)\n",
        "        tt = time()\n",
        "        t = tt - t0\n",
        "        times.append(t)\n",
        "    return np.asarray(times)\n",
        "\n",
        "def time_svd_funcs2(funcs, Ns=[200, 500, 1000, 2000], n_trials=7):\n",
        "    results = []\n",
        "\n",
        "    for N in Ns:\n",
        "        for func in funcs:\n",
        "            times = time_svd(func, n_trials, N)            \n",
        "            results.extend([{\n",
        "                'time': t, \n",
        "                'N': N,\n",
        "                'func_name': func.__name__,\n",
        "                } for t in times])\n",
        "    return pd.DataFrame(results)"
      ],
      "execution_count": 0,
      "outputs": []
    },
    {
      "cell_type": "code",
      "metadata": {
        "id": "DW8S-nv1w3wW",
        "colab_type": "code",
        "colab": {}
      },
      "source": [
        ""
      ],
      "execution_count": 0,
      "outputs": []
    },
    {
      "cell_type": "code",
      "metadata": {
        "id": "7IB-HnX8sLVr",
        "colab_type": "code",
        "colab": {}
      },
      "source": [
        "results = time_svd_funcs2([jnp_svd, jsp_svd,\n",
        "                           np_svd, scipy_svd\n",
        "                         ], \n",
        "                         Ns=[200, 500, 1000, 2000]\n",
        "                        )"
      ],
      "execution_count": 0,
      "outputs": []
    },
    {
      "cell_type": "code",
      "metadata": {
        "id": "QDqFR7NFyLts",
        "colab_type": "code",
        "outputId": "2e5515ab-e6cc-45f3-f235-2803735615ad",
        "colab": {
          "base_uri": "https://localhost:8080/",
          "height": 607
        }
      },
      "source": [
        "results.groupby(['N', 'func_name']).agg([np.mean, np.std])"
      ],
      "execution_count": 0,
      "outputs": [
        {
          "output_type": "execute_result",
          "data": {
            "text/html": [
              "<div>\n",
              "<style scoped>\n",
              "    .dataframe tbody tr th:only-of-type {\n",
              "        vertical-align: middle;\n",
              "    }\n",
              "\n",
              "    .dataframe tbody tr th {\n",
              "        vertical-align: top;\n",
              "    }\n",
              "\n",
              "    .dataframe thead tr th {\n",
              "        text-align: left;\n",
              "    }\n",
              "\n",
              "    .dataframe thead tr:last-of-type th {\n",
              "        text-align: right;\n",
              "    }\n",
              "</style>\n",
              "<table border=\"1\" class=\"dataframe\">\n",
              "  <thead>\n",
              "    <tr>\n",
              "      <th></th>\n",
              "      <th></th>\n",
              "      <th colspan=\"2\" halign=\"left\">time</th>\n",
              "    </tr>\n",
              "    <tr>\n",
              "      <th></th>\n",
              "      <th></th>\n",
              "      <th>mean</th>\n",
              "      <th>std</th>\n",
              "    </tr>\n",
              "    <tr>\n",
              "      <th>N</th>\n",
              "      <th>func_name</th>\n",
              "      <th></th>\n",
              "      <th></th>\n",
              "    </tr>\n",
              "  </thead>\n",
              "  <tbody>\n",
              "    <tr>\n",
              "      <th rowspan=\"4\" valign=\"top\">200</th>\n",
              "      <th>jnp_svd</th>\n",
              "      <td>0.005765</td>\n",
              "      <td>0.005748</td>\n",
              "    </tr>\n",
              "    <tr>\n",
              "      <th>jsp_svd</th>\n",
              "      <td>0.012088</td>\n",
              "      <td>0.000800</td>\n",
              "    </tr>\n",
              "    <tr>\n",
              "      <th>np_svd</th>\n",
              "      <td>0.027077</td>\n",
              "      <td>0.021298</td>\n",
              "    </tr>\n",
              "    <tr>\n",
              "      <th>scipy_svd</th>\n",
              "      <td>0.011653</td>\n",
              "      <td>0.000609</td>\n",
              "    </tr>\n",
              "    <tr>\n",
              "      <th rowspan=\"4\" valign=\"top\">500</th>\n",
              "      <th>jnp_svd</th>\n",
              "      <td>0.038234</td>\n",
              "      <td>0.047313</td>\n",
              "    </tr>\n",
              "    <tr>\n",
              "      <th>jsp_svd</th>\n",
              "      <td>0.090133</td>\n",
              "      <td>0.001279</td>\n",
              "    </tr>\n",
              "    <tr>\n",
              "      <th>np_svd</th>\n",
              "      <td>0.183280</td>\n",
              "      <td>0.153448</td>\n",
              "    </tr>\n",
              "    <tr>\n",
              "      <th>scipy_svd</th>\n",
              "      <td>0.100605</td>\n",
              "      <td>0.008528</td>\n",
              "    </tr>\n",
              "    <tr>\n",
              "      <th rowspan=\"4\" valign=\"top\">1000</th>\n",
              "      <th>jnp_svd</th>\n",
              "      <td>0.227720</td>\n",
              "      <td>0.283698</td>\n",
              "    </tr>\n",
              "    <tr>\n",
              "      <th>jsp_svd</th>\n",
              "      <td>0.529090</td>\n",
              "      <td>0.001541</td>\n",
              "    </tr>\n",
              "    <tr>\n",
              "      <th>np_svd</th>\n",
              "      <td>1.149914</td>\n",
              "      <td>0.855303</td>\n",
              "    </tr>\n",
              "    <tr>\n",
              "      <th>scipy_svd</th>\n",
              "      <td>0.551651</td>\n",
              "      <td>0.001443</td>\n",
              "    </tr>\n",
              "    <tr>\n",
              "      <th rowspan=\"4\" valign=\"top\">2000</th>\n",
              "      <th>jnp_svd</th>\n",
              "      <td>1.525515</td>\n",
              "      <td>1.902691</td>\n",
              "    </tr>\n",
              "    <tr>\n",
              "      <th>jsp_svd</th>\n",
              "      <td>3.551000</td>\n",
              "      <td>0.020982</td>\n",
              "    </tr>\n",
              "    <tr>\n",
              "      <th>np_svd</th>\n",
              "      <td>8.322217</td>\n",
              "      <td>5.538444</td>\n",
              "    </tr>\n",
              "    <tr>\n",
              "      <th>scipy_svd</th>\n",
              "      <td>3.665680</td>\n",
              "      <td>0.031148</td>\n",
              "    </tr>\n",
              "  </tbody>\n",
              "</table>\n",
              "</div>"
            ],
            "text/plain": [
              "                    time          \n",
              "                    mean       std\n",
              "N    func_name                    \n",
              "200  jnp_svd    0.005765  0.005748\n",
              "     jsp_svd    0.012088  0.000800\n",
              "     np_svd     0.027077  0.021298\n",
              "     scipy_svd  0.011653  0.000609\n",
              "500  jnp_svd    0.038234  0.047313\n",
              "     jsp_svd    0.090133  0.001279\n",
              "     np_svd     0.183280  0.153448\n",
              "     scipy_svd  0.100605  0.008528\n",
              "1000 jnp_svd    0.227720  0.283698\n",
              "     jsp_svd    0.529090  0.001541\n",
              "     np_svd     1.149914  0.855303\n",
              "     scipy_svd  0.551651  0.001443\n",
              "2000 jnp_svd    1.525515  1.902691\n",
              "     jsp_svd    3.551000  0.020982\n",
              "     np_svd     8.322217  5.538444\n",
              "     scipy_svd  3.665680  0.031148"
            ]
          },
          "metadata": {
            "tags": []
          },
          "execution_count": 26
        }
      ]
    },
    {
      "cell_type": "code",
      "metadata": {
        "id": "5N2AJJ-NzrOv",
        "colab_type": "code",
        "outputId": "8fd8dc3c-e4b2-4012-f095-ffd1a69b05cc",
        "colab": {
          "base_uri": "https://localhost:8080/",
          "height": 291
        }
      },
      "source": [
        "ax = sns.lineplot(x='N', y='time', hue='func_name',\n",
        "                  style='func_name',\n",
        "                  marker='o',\n",
        "                  alpha=0.7,                  \n",
        "                  data=results)\n",
        "ax.set_ylabel('Time (seconds)')\n",
        "ax.set_xlabel('$n$')\n",
        "ax.set_yscale('log')"
      ],
      "execution_count": 0,
      "outputs": [
        {
          "output_type": "display_data",
          "data": {
            "image/png": "[encoded data removed]",
            "text/plain": [
              "<Figure size 432x288 with 1 Axes>"
            ]
          },
          "metadata": {
            "tags": []
          }
        }
      ]
    },
    {
      "cell_type": "code",
      "metadata": {
        "id": "O7Lhv7J70NVS",
        "colab_type": "code",
        "colab": {}
      },
      "source": [
        ""
      ],
      "execution_count": 0,
      "outputs": []
    }
  ]
}