{
 "nbformat": 4,
 "nbformat_minor": 0,
 "metadata": {
  "kernel_info": {
   "name": "python3"
  },
  "language_info": {
   "name": "python",
   "version": "3.6.9",
   "mimetype": "text/x-python",
   "codemirror_mode": {
    "name": "ipython",
    "version": 3
   },
   "pygments_lexer": "ipython3",
   "nbconvert_exporter": "python",
   "file_extension": ".py"
  },
  "kernelspec": {
   "argv": [
    "/home/alameddin/z_nosync_packages/pyenv/versions/3.6.9/bin/python",
    "-m",
    "ipykernel_launcher",
    "-f",
    "{connection_file}"
   ],
   "display_name": "Python 3",
   "language": "python",
   "name": "python3"
  },
  "nteract": {
   "version": "0.22.4"
  },
  "colab": {
   "name": "00_numba_cpu.ipynb",
   "provenance": []
  }
 },
 "cells": [
  {
   "cell_type": "markdown",
   "metadata": {
    "collapsed": false,
    "pycharm": {
     "name": "#%% md\n"
    },
    "id": "y_R_04HuyjeB",
    "colab_type": "text"
   },
   "source": [
    "# Introduction to Numba for CPU\n",
    "[Numba](http://numba.pydata.org/) is an open source just-in-time (JIT) compiler that translates a subset of Python and NumPy code into fast machine code."
   ]
  },
  {
   "cell_type": "code",
   "metadata": {
    "outputExpanded": false,
    "jupyter": {
     "source_hidden": false,
     "outputs_hidden": false
    },
    "nteract": {
     "transient": {
      "deleting": false
     }
    },
    "execution": {
     "iopub.status.busy": "2020-04-21T21:30:29.814Z",
     "iopub.execute_input": "2020-04-21T21:30:29.817Z",
     "iopub.status.idle": "2020-04-21T21:30:29.822Z",
     "shell.execute_reply": "2020-04-21T21:30:29.841Z"
    },
    "pycharm": {
     "name": "#%%\n"
    },
    "id": "SbmkYtuWyjeC",
    "colab_type": "code",
    "colab": {}
   },
   "source": [
    "import numpy as np\n",
    "from numba import jit, njit, prange, vectorize\n",
    "from concurrent.futures import ThreadPoolExecutor\n",
    "import dask\n",
    "import dask.delayed"
   ],
   "execution_count": null,
   "outputs": []
  },
  {
   "cell_type": "code",
   "metadata": {
    "pycharm": {
     "name": "#%%\n"
    },
    "id": "byCKmk8cyjeK",
    "colab_type": "code",
    "colab": {}
   },
   "source": [
    "def slow_function(a,b):\n",
    "    assert a.shape == b.shape\n",
    "    c = np.empty(a.shape)\n",
    "    for i in range(a.shape[0]):\n",
    "        c[i] = a[i] @ b[i]\n",
    "    return c\n",
    "\n",
    "def fast_function(a,b):\n",
    "    return njit()(slow_function)\n",
    "\n",
    "# when using the njit decorator, the original function is accesable throught slow_function.py_func"
   ],
   "execution_count": null,
   "outputs": []
  },
  {
   "cell_type": "code",
   "metadata": {
    "outputExpanded": false,
    "jupyter": {
     "source_hidden": false,
     "outputs_hidden": false
    },
    "nteract": {
     "transient": {
      "deleting": false
     }
    },
    "execution": {
     "iopub.status.busy": "2020-04-21T21:30:29.825Z",
     "iopub.execute_input": "2020-04-21T21:30:29.827Z",
     "iopub.status.idle": "2020-04-21T21:30:29.832Z",
     "shell.execute_reply": "2020-04-21T21:30:29.843Z"
    },
    "id": "raHNftUxyjeO",
    "colab_type": "code",
    "colab": {}
   },
   "source": [
    "n=5\n",
    "N=10000\n",
    "a = np.random.rand(N,n,n)\n",
    "b = np.random.rand(N,n,n)\n",
    "\n",
    "%timeit slow_function(a,b)\n",
    "# first call invokes the jit compiler and the second should be much faster\n",
    "%timeit fast_function(a,b)\n",
    "%timeit fast_function(a,b)"
   ],
   "execution_count": null,
   "outputs": []
  },
  {
   "cell_type": "markdown",
   "metadata": {
    "collapsed": false,
    "pycharm": {
     "name": "#%% md\n"
    },
    "id": "c9tPnuYSyjeS",
    "colab_type": "text"
   },
   "source": [
    "## Universal functions `ufuncs`\n",
    "Universal functions are functions that broadcast an elementwise operation across input arrays of varying numbers of dimensions."
   ]
  },
  {
   "cell_type": "code",
   "metadata": {
    "pycharm": {
     "name": "#%%\n"
    },
    "id": "vzCt0l0iyjeS",
    "colab_type": "code",
    "colab": {}
   },
   "source": [
    "@njit\n",
    "def elementwise_operations(a,b):\n",
    "    return a**2 + b**2\n",
    "\n",
    "@vectorize(nopython=True)\n",
    "def elementwise_operations_v(a,b):\n",
    "    return a**2 + b**2\n",
    "\n",
    "elementwise_operations.py_func(3,4) # call the interpreted function\n",
    "elementwise_operations(3,4) # call the compiled function\n",
    "elementwise_operations(np.ones((10,10)),np.ones((10,10)))\n",
    "elementwise_operations_v(np.ones((10,10)),np.ones((10,10)))\n",
    "# elementwise_operations.inspect_types() # check arg types of the compiled function\n",
    "# elementwise_operations.inspect_types(pretty=True) # check arg types of the compiled function\n",
    "elementwise_operations.signatures"
   ],
   "execution_count": null,
   "outputs": []
  },
  {
   "cell_type": "markdown",
   "metadata": {
    "collapsed": false,
    "pycharm": {
     "name": "#%% md\n"
    },
    "id": "2iRI7bdZyjeW",
    "colab_type": "text"
   },
   "source": [
    "## External multithreading\n",
    "To combine with python threads, it is usefull to release the __global interpreter lock__"
   ]
  },
  {
   "cell_type": "code",
   "metadata": {
    "pycharm": {
     "name": "#%%\n"
    },
    "id": "sQF78XNXyjeX",
    "colab_type": "code",
    "colab": {}
   },
   "source": [
    "@njit(nogil=True)\n",
    "def do_some_computations():\n",
    "    z=0\n",
    "    for x in range(10000):\n",
    "        y = x * np.random.randint(0,2)/2\n",
    "        if x > y:\n",
    "            z+= np.exp(x) + np.sin(y)\n",
    "        else:\n",
    "            z+= np.exp(y) + np.sin(x)\n",
    "    return z\n",
    "\n",
    "# compile\n",
    "_ = do_some_computations()\n",
    "delayed_do_some_computations = dask.delayed(do_some_computations)"
   ],
   "execution_count": null,
   "outputs": []
  },
  {
   "cell_type": "code",
   "metadata": {
    "pycharm": {
     "name": "#%%\n"
    },
    "id": "2gzT-Rrzyjea",
    "colab_type": "code",
    "colab": {}
   },
   "source": [
    "%%time\n",
    "with ThreadPoolExecutor(8) as ex:\n",
    "    ex.map(do_some_computations)"
   ],
   "execution_count": null,
   "outputs": []
  },
  {
   "cell_type": "code",
   "metadata": {
    "pycharm": {
     "name": "#%%\n"
    },
    "id": "46WATvVUyjeh",
    "colab_type": "code",
    "colab": {}
   },
   "source": [
    "%%time\n",
    "futures = delayed_do_some_computations()\n",
    "results = dask.compute(futures,num_workers=8)[0]"
   ],
   "execution_count": null,
   "outputs": []
  },
  {
   "cell_type": "markdown",
   "metadata": {
    "collapsed": false,
    "id": "iLRKiiH2yjem",
    "colab_type": "text"
   },
   "source": [
    "## Explicit multithreading using `prange()`"
   ]
  },
  {
   "cell_type": "code",
   "metadata": {
    "pycharm": {
     "name": "#%%\n"
    },
    "id": "Tz7mhbBuyjen",
    "colab_type": "code",
    "colab": {}
   },
   "source": [
    "@njit(nogil=True, parallel=True)\n",
    "def run_in_parallel(end=10000):\n",
    "    for x in prange(int(end)):\n",
    "        do_some_computations()\n",
    "\n",
    "run_in_parallel()\n",
    "%time run_in_parallel()"
   ],
   "execution_count": null,
   "outputs": []
  },
  {
   "cell_type": "code",
   "metadata": {
    "pycharm": {
     "name": "#%%\n"
    },
    "id": "ZC-KExcPyjer",
    "colab_type": "code",
    "colab": {}
   },
   "source": [
    "# function with reduction\n",
    "@jit(nopython=True, parallel=True)\n",
    "def monte_carlo_pi_parallel(nsamples):\n",
    "    acc = 0\n",
    "    # Only change is here\n",
    "    for i in prange(nsamples):\n",
    "        x = np.random.random()\n",
    "        y = np.random.random()\n",
    "        if (x**2 + y**2) < 1.0:\n",
    "            acc += 1\n",
    "    return 4.0 * acc / nsamples\n",
    "# acc is accessed in a thread-safe way [will get a race condition if acc is an array]\n",
    "# Numba automatically initializes the random number generator in each thread independently"
   ],
   "execution_count": null,
   "outputs": []
  },
  {
   "cell_type": "markdown",
   "metadata": {
    "collapsed": false,
    "id": "vRk7ewEvyjev",
    "colab_type": "text"
   },
   "source": [
    "## Automatic multithreading of `Numpy` expressions"
   ]
  },
  {
   "cell_type": "code",
   "metadata": {
    "pycharm": {
     "name": "#%%\n"
    },
    "id": "P5eTW5pUyjew",
    "colab_type": "code",
    "colab": {}
   },
   "source": [
    "@jit(nopython=True, parallel=True)\n",
    "def computations_on_arrays(x,y):\n",
    "        return np.exp(x) * np.sin(y)\n",
    "x = np.random.uniform(-1, 1, size=1000000)\n",
    "y = np.random.uniform(-1, 1, size=1000000)\n",
    "\n",
    "computations_on_arrays_nothread = jit(nopython=True)(computations_on_arrays.py_func)\n",
    "\n",
    "%timeit computations_on_arrays.py_func(x,y)\n",
    "%timeit computations_on_arrays_nothread(x,y)\n",
    "%timeit computations_on_arrays(x,y)"
   ],
   "execution_count": null,
   "outputs": []
  },
  {
   "cell_type": "markdown",
   "metadata": {
    "collapsed": false,
    "id": "oWaN_t8Oyje2",
    "colab_type": "text"
   },
   "source": [
    "## SIMD Autovectorisation\n",
    "These instructions operate on as many values as will fit into an input register. For AVX instructions, either 8 float32 values or 4 float64 values can be processed as a single input.\n",
    "\n",
    "On x86_64, the name of the registers used indicates which level of SIMD is in use:\n",
    "\n",
    "* SSE: `xmmX`\n",
    "* AVX/AVX2: `ymmX`\n",
    "* AVX-512: `zmmX`\n",
    "\n",
    "where X is an integer.\n",
    "\n",
    "In x86_64 assembly, SSE uses `subps` for \"subtraction packed single precision\" (AVX uses `vsubps`), representing vector float32 operations.  The `subpd` instruction (AVX = `vsubpd`) stands for \"subtraction packed double precision\", representing float64 operations.\n",
    "\n",
    "ref: https://hub.gke.mybinder.org/user/numba-numba-examples-k9r91v25/notebooks/notebooks/simd.ipynb"
   ]
  },
  {
   "cell_type": "code",
   "metadata": {
    "pycharm": {
     "name": "#%%\n"
    },
    "id": "0rMuLgdEyje3",
    "colab_type": "code",
    "colab": {}
   },
   "source": [
    "def find_instr(func, keyword, sig=0, limit=5):\n",
    "    count = 0\n",
    "    for l in func.inspect_asm(func.signatures[sig]).split('\\n'):\n",
    "        if keyword in l:\n",
    "            count += 1\n",
    "            print(l)\n",
    "            if count >= limit:\n",
    "                break\n",
    "    if count == 0:\n",
    "        print('No instructions found')\n",
    "\n",
    "@jit(nopython=True)\n",
    "def sqdiff(x, y):\n",
    "    out = np.empty_like(x)\n",
    "    for i in range(x.shape[0]):\n",
    "        out[i] = (x[i] - y[i])**2\n",
    "    return out\n",
    "\n",
    "x32 = np.linspace(1, 2, 10000, dtype=np.float32)\n",
    "y32 = np.linspace(2, 3, 10000, dtype=np.float32)\n",
    "sqdiff(x32, y32)\n",
    "\n",
    "x64 = x32.astype(np.float64)\n",
    "y64 = y32.astype(np.float64)\n",
    "sqdiff(x64, y64)\n",
    "\n",
    "%timeit sqdiff(x32, y32)\n",
    "%timeit sqdiff(x64, y64)\n",
    "\n",
    "print('float32:')\n",
    "find_instr(sqdiff, keyword='subp', sig=0)\n",
    "print('---\\nfloat64:')\n",
    "find_instr(sqdiff, keyword='subp', sig=1)"
   ],
   "execution_count": null,
   "outputs": []
  },
  {
   "cell_type": "markdown",
   "metadata": {
    "collapsed": false,
    "pycharm": {
     "name": "#%% md\n"
    },
    "id": "8-SuXuPUyje7",
    "colab_type": "text"
   },
   "source": [
    "## Other options\n",
    "`@jit(nopython=True, fastmath=True)`\n",
    "`find_instr(do_sum, keyword='mulp')`"
   ]
  }
 ]
}