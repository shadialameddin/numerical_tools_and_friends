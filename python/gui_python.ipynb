{
 "cells": [
  {
   "cell_type": "markdown",
   "metadata": {
    "collapsed": true,
    "pycharm": {
     "name": "#%% md\n"
    }
   },
   "source": [
    "[flexx](https://github.com/flexxui/flexx)\n",
    "\n",
    "[pywebview](https://github.com/r0x0r/pywebview/)"
   ]
  },
  {
   "cell_type": "code",
   "execution_count": 5,
   "outputs": [
    {
     "name": "stderr",
     "output_type": "stream",
     "text": [
      "[pywebview] GTK cannot be loaded\n",
      "Traceback (most recent call last):\n",
      "  File \"/packages/pyenv/versions/3.6.9/envs/sa_env/lib/python3.6/site-packages/webview/guilib.py\", line 16, in import_gtk\n",
      "    import webview.platforms.gtk as guilib\n",
      "  File \"/packages/pyenv/versions/3.6.9/envs/sa_env/lib/python3.6/site-packages/webview/platforms/gtk.py\", line 25, in <module>\n",
      "    import gi\n",
      "ModuleNotFoundError: No module named 'gi'\n",
      "[pywebview] QT cannot be loaded\n",
      "Traceback (most recent call last):\n",
      "  File \"/packages/pyenv/versions/3.6.9/envs/sa_env/lib/python3.6/site-packages/webview/guilib.py\", line 29, in import_qt\n",
      "    import webview.platforms.qt as guilib\n",
      "  File \"/packages/pyenv/versions/3.6.9/envs/sa_env/lib/python3.6/site-packages/webview/platforms/qt.py\", line 29, in <module>\n",
      "    from PyQt5 import QtCore\n",
      "ModuleNotFoundError: No module named 'PyQt5'\n"
     ]
    },
    {
     "ename": "WebViewException",
     "evalue": "You must have either QT or GTK with Python extensions installed in order to use pywebview.",
     "output_type": "error",
     "traceback": [
      "\u001B[0;31m---------------------------------------------------------------------------\u001B[0m",
      "\u001B[0;31mWebViewException\u001B[0m                          Traceback (most recent call last)",
      "\u001B[0;32m<ipython-input-5-8a821128879b>\u001B[0m in \u001B[0;36m<module>\u001B[0;34m\u001B[0m\n\u001B[1;32m      4\u001B[0m \u001B[0;32mimport\u001B[0m \u001B[0mwebview\u001B[0m\u001B[0;34m\u001B[0m\u001B[0;34m\u001B[0m\u001B[0m\n\u001B[1;32m      5\u001B[0m \u001B[0mwebview\u001B[0m\u001B[0;34m.\u001B[0m\u001B[0mcreate_window\u001B[0m\u001B[0;34m(\u001B[0m\u001B[0;34m'Hello world'\u001B[0m\u001B[0;34m,\u001B[0m \u001B[0;34m'https://pywebview.flowrl.com/'\u001B[0m\u001B[0;34m)\u001B[0m\u001B[0;34m\u001B[0m\u001B[0;34m\u001B[0m\u001B[0m\n\u001B[0;32m----> 6\u001B[0;31m \u001B[0mwebview\u001B[0m\u001B[0;34m.\u001B[0m\u001B[0mstart\u001B[0m\u001B[0;34m(\u001B[0m\u001B[0;34m)\u001B[0m\u001B[0;34m\u001B[0m\u001B[0;34m\u001B[0m\u001B[0m\n\u001B[0m",
      "\u001B[0;32m/packages/pyenv/versions/3.6.9/envs/sa_env/lib/python3.6/site-packages/webview/__init__.py\u001B[0m in \u001B[0;36mstart\u001B[0;34m(func, args, localization, gui, debug, http_server, user_agent)\u001B[0m\n\u001B[1;32m     94\u001B[0m         \u001B[0;32mraise\u001B[0m \u001B[0mWebViewException\u001B[0m\u001B[0;34m(\u001B[0m\u001B[0;34m'You must create a window first before calling this function.'\u001B[0m\u001B[0;34m)\u001B[0m\u001B[0;34m\u001B[0m\u001B[0;34m\u001B[0m\u001B[0m\n\u001B[1;32m     95\u001B[0m \u001B[0;34m\u001B[0m\u001B[0m\n\u001B[0;32m---> 96\u001B[0;31m     \u001B[0mguilib\u001B[0m \u001B[0;34m=\u001B[0m \u001B[0minitialize\u001B[0m\u001B[0;34m(\u001B[0m\u001B[0mgui\u001B[0m\u001B[0;34m)\u001B[0m\u001B[0;34m\u001B[0m\u001B[0;34m\u001B[0m\u001B[0m\n\u001B[0m\u001B[1;32m     97\u001B[0m \u001B[0;34m\u001B[0m\u001B[0m\n\u001B[1;32m     98\u001B[0m     \u001B[0;32mfor\u001B[0m \u001B[0mwindow\u001B[0m \u001B[0;32min\u001B[0m \u001B[0mwindows\u001B[0m\u001B[0;34m:\u001B[0m\u001B[0;34m\u001B[0m\u001B[0;34m\u001B[0m\u001B[0m\n",
      "\u001B[0;32m/packages/pyenv/versions/3.6.9/envs/sa_env/lib/python3.6/site-packages/webview/guilib.py\u001B[0m in \u001B[0;36minitialize\u001B[0;34m(forced_gui)\u001B[0m\n\u001B[1;32m     91\u001B[0m \u001B[0;34m\u001B[0m\u001B[0m\n\u001B[1;32m     92\u001B[0m         \u001B[0;32mif\u001B[0m \u001B[0;32mnot\u001B[0m \u001B[0mtry_import\u001B[0m\u001B[0;34m(\u001B[0m\u001B[0mguis\u001B[0m\u001B[0;34m)\u001B[0m\u001B[0;34m:\u001B[0m\u001B[0;34m\u001B[0m\u001B[0;34m\u001B[0m\u001B[0m\n\u001B[0;32m---> 93\u001B[0;31m             \u001B[0;32mraise\u001B[0m \u001B[0mWebViewException\u001B[0m\u001B[0;34m(\u001B[0m\u001B[0;34m'You must have either QT or GTK with Python extensions installed in order to use pywebview.'\u001B[0m\u001B[0;34m)\u001B[0m\u001B[0;34m\u001B[0m\u001B[0;34m\u001B[0m\u001B[0m\n\u001B[0m\u001B[1;32m     94\u001B[0m \u001B[0;34m\u001B[0m\u001B[0m\n\u001B[1;32m     95\u001B[0m     \u001B[0;32melif\u001B[0m \u001B[0mplatform\u001B[0m\u001B[0;34m.\u001B[0m\u001B[0msystem\u001B[0m\u001B[0;34m(\u001B[0m\u001B[0;34m)\u001B[0m \u001B[0;34m==\u001B[0m \u001B[0;34m'Windows'\u001B[0m\u001B[0;34m:\u001B[0m\u001B[0;34m\u001B[0m\u001B[0;34m\u001B[0m\u001B[0m\n",
      "\u001B[0;31mWebViewException\u001B[0m: You must have either QT or GTK with Python extensions installed in order to use pywebview."
     ]
    }
   ],
   "source": [
    "# pip install flexx\n",
    "# pip install pywebview[qt]\n",
    "\n",
    "import webview\n",
    "webview.create_window('Hello world', 'https://pywebview.flowrl.com/')\n",
    "webview.start()"
   ],
   "metadata": {
    "collapsed": false,
    "pycharm": {
     "name": "#%%\n"
    }
   }
  },
  {
   "cell_type": "code",
   "execution_count": null,
   "outputs": [],
   "source": [
    "import webview\n",
    "\n",
    "\"\"\"\n",
    "This example demonstrates how to create a frameless window with a custom minimum\n",
    "size.\n",
    "\"\"\"\n",
    "\n",
    "if __name__ == '__main__':\n",
    "    # Create a resizable webview window with minimum size constraints\n",
    "    webview.create_window('Frameless window',\n",
    "                          'http://pywebview.flowrl.com/hello',\n",
    "                          frameless=True)\n",
    "    webview.start()"
   ],
   "metadata": {
    "collapsed": false,
    "pycharm": {
     "name": "#%%\n"
    }
   }
  }
 ],
 "metadata": {
  "kernelspec": {
   "display_name": "Python 3",
   "language": "python",
   "name": "python3"
  },
  "language_info": {
   "codemirror_mode": {
    "name": "ipython",
    "version": 2
   },
   "file_extension": ".py",
   "mimetype": "text/x-python",
   "name": "python",
   "nbconvert_exporter": "python",
   "pygments_lexer": "ipython2",
   "version": "2.7.6"
  }
 },
 "nbformat": 4,
 "nbformat_minor": 0
}