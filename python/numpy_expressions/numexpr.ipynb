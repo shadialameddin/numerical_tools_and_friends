{
 "cells": [
  {
   "cell_type": "markdown",
   "metadata": {
    "collapsed": true,
    "pycharm": {
     "name": "#%% md\n"
    }
   },
   "source": [
    "# [numexpr](https://numexpr.readthedocs.io/projects/NumExpr3/en/latest/)\n"
   ]
  },
  {
   "cell_type": "code",
   "execution_count": 17,
   "outputs": [
    {
     "data": {
      "text/plain": "array([ True, False, False])"
     },
     "execution_count": 17,
     "metadata": {},
     "output_type": "execute_result"
    }
   ],
   "source": [
    "# pip install numexpr\n",
    "\n",
    "import numpy as np\n",
    "import numexpr as ne\n",
    "\n",
    "a = np.arange(1e6)   # Choose large arrays for better speedups\n",
    "b = np.arange(1e6)\n",
    "\n",
    "ne.evaluate(\"a + 1\")   # a simple expression\n",
    "\n",
    "ne.evaluate('a*b-4.1*a > 2.5*b')   # a more complex one\n",
    "\n",
    "ne.evaluate(\"sin(a) + arcsinh(a/b)\")   # you can also use functions\n",
    "\n",
    "s = np.array([b'abba', b'abbb', b'abbcdef'])\n",
    "ne.evaluate(\"b'abba' == s\")   # string arrays are supported too"
   ],
   "metadata": {
    "collapsed": false,
    "pycharm": {
     "name": "#%%\n"
    }
   }
  },
  {
   "cell_type": "markdown",
   "source": [
    "[seems that numexpr can't be used out of the box to optimise matrix-matrix optimisation ](https://groups.google.com/forum/#!topic/pytables-users/pCgp-vyP4Zk)"
   ],
   "metadata": {
    "collapsed": false
   }
  },
  {
   "cell_type": "code",
   "execution_count": 16,
   "outputs": [],
   "source": [
    "# n=int(1e3)\n",
    "# x = np.random.rand(n,n)\n",
    "# %timeit ne.evaluate('np.matmul(x,x)')\n",
    "# %timeit x @ x"
   ],
   "metadata": {
    "collapsed": false,
    "pycharm": {
     "name": "#%%\n"
    }
   }
  },
  {
   "cell_type": "markdown",
   "source": [
    "try\n",
    "# https://www.gurobi.com/documentation/9.0/refman/py_mlex.html"
   ],
   "metadata": {
    "collapsed": false,
    "pycharm": {
     "name": "#%% md\n"
    }
   }
  }
 ],
 "metadata": {
  "kernelspec": {
   "display_name": "Python 3",
   "language": "python",
   "name": "python3"
  },
  "language_info": {
   "codemirror_mode": {
    "name": "ipython",
    "version": 2
   },
   "file_extension": ".py",
   "mimetype": "text/x-python",
   "name": "python",
   "nbconvert_exporter": "python",
   "pygments_lexer": "ipython2",
   "version": "2.7.6"
  }
 },
 "nbformat": 4,
 "nbformat_minor": 0
}