{
 "cells": [
  {
   "cell_type": "markdown",
   "metadata": {
    "collapsed": true,
    "pycharm": {
     "name": "#%% md\n"
    }
   },
   "source": [
    "https://www.mathworks.com/mwaccount/\n",
    "[matlab online](https://matlab.mathworks.com/)\n",
    "[matlab drive](https://drive.matlab.com/files/)\n",
    "\n",
    "# white board\n",
    "- xodo connect\n",
    "- MS teams + Freehand by Invision\n",
    "- microsoft whiteboard app\n",
    "- https://awwapp.com/b/ubeeibcwd/\n",
    "\n",
    "# video calls\n",
    "- https://conf.dfn.de/webapp/conference/979106228?callType=video\n",
    "- https://my.conf.dfn.de/pexip/\n",
    "- https://unistuttgart.webex.com/webappng/sites/unistuttgart/dashboard/home\n",
    "- discordapp.com\n",
    "\n",
    "# code sharing\n",
    "- atom teletype\n",
    "- https://colab.research.google.com/\n",
    "- https://codeshare.io/\n",
    "- https://repl.it/languages/python3\n",
    "- https://www.onlinegdb.com/online_python_compiler\n",
    "- https://codeanywhere.com/\n",
    "\n",
    "# send files\n",
    "https://send.firefox.com/login/?utm_source=fxa-toolbar&utm_medium=referral&entrypoint=fxa_discoverability_native&email=shadialameddin%40gmail.com\n",
    "https://fex.uni-stuttgart.de/fup\n",
    "\n",
    "# videos editing\n",
    "- handbrake\n",
    "- kdenlive\n",
    "\n",
    "# compress files\n",
    "GZIP=-9 tar cvzf file.tar.gz /path/to/directory\n"
   ]
  },
  {
   "cell_type": "code",
   "execution_count": null,
   "outputs": [],
   "source": [],
   "metadata": {
    "collapsed": false,
    "pycharm": {
     "name": "#%%\n"
    }
   }
  }
 ],
 "metadata": {
  "kernelspec": {
   "display_name": "Python 3",
   "language": "python",
   "name": "python3"
  },
  "language_info": {
   "codemirror_mode": {
    "name": "ipython",
    "version": 2
   },
   "file_extension": ".py",
   "mimetype": "text/x-python",
   "name": "python",
   "nbconvert_exporter": "python",
   "pygments_lexer": "ipython2",
   "version": "2.7.6"
  }
 },
 "nbformat": 4,
 "nbformat_minor": 0
}