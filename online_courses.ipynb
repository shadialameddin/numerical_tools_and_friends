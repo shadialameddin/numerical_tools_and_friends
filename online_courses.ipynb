{
 "cells": [
  {
   "cell_type": "markdown",
   "metadata": {
    "collapsed": true,
    "pycharm": {
     "name": "#%% md\n"
    }
   },
   "source": [
    "- [udemy](https://www.udemy.com/course/the-complete-python-course/learn/lecture/15218114?start=255#overview)\n",
    "- Java, Kotlin, Python: [JetBrains Academy](https://hyperskill.org/onboarding)\n",
    "- [MathWorks courses](https://matlabacademy.mathworks.com)\n",
    "- [matlab educator](https://www.mathworks.com/academia/educators.html?s_v1=30980&elqem=3065604_EM_DE_DIR_20-04_NEWSLETTER_COVID-EDU&elqTrackId=aa092aab34a0423cbfa918d1a1f83892&elq=f99b8566b54a46cc9471ed56aa254569&elqaid=30980&elqat=1&elqCampaignId=11198)\n",
    "- [GPU/CPU Programming for Engineers](https://www.ce.jhu.edu/dalrymple/classes/602/602index.html):\n",
    "[files](https://www.ce.jhu.edu/dalrymple/classes/602/)\n",
    "- https://stackoverflow.blog/2020/04/27/build-your-technical-skills-at-home-with-online-learning/?utm_source=Iterable&utm_medium=email&utm_campaign=the_overflow_newsletter\n",
    "- https://www.hlrs.de/events/english/\n",
    "- https://www.mpi-magdeburg.mpg.de/csc/events/samm20\n",
    "- https://about.coursera.org/\n",
    "- https://www.edx.org/\n",
    "- http://emweb.unl.edu/\n",
    "- https://www.khanacademy.org/\n",
    "- https://ocw.mit.edu/index.htm"
   ]
  }
 ],
 "metadata": {
  "kernelspec": {
   "display_name": "Python 3",
   "language": "python",
   "name": "python3"
  },
  "language_info": {
   "codemirror_mode": {
    "name": "ipython",
    "version": 2
   },
   "file_extension": ".py",
   "mimetype": "text/x-python",
   "name": "python",
   "nbconvert_exporter": "python",
   "pygments_lexer": "ipython2",
   "version": "2.7.6"
  }
 },
 "nbformat": 4,
 "nbformat_minor": 0
}