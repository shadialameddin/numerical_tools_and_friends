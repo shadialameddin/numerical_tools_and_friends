{
 "cells": [
  {
   "cell_type": "markdown",
   "metadata": {
    "collapsed": true,
    "pycharm": {
     "name": "#%% md\n"
    }
   },
   "source": [
    "* Text editor\n",
    "    * atom\n",
    "* Python\n",
    "    * Pycharm\n",
    "        * highlight, autocomplete, debug\n",
    "        * git\n",
    "        * terminal\n",
    "    * yapf formatter\n",
    "\n",
    "* C++\n",
    "    * Clion and ClangFormat plugin\n",
    "\n",
    "* Matlab\n",
    "\n",
    "* Latex\n",
    "    * in pycharm: [TeXiFy IDEA](https://plugins.jetbrains.com/plugin/9473-texify-idea)\n",
    "        * open project to get output in out folder or [try this](https://tex.stackexchange.com/questions/12686/how-do-i-run-bibtex-after-using-the-output-directory-flag-with-pdflatex-when-f/289336#289336)\n",
    "        * highlight, autocomplete, compile, format [code->reformatfile]\n",
    "    * texstudio\n",
    "    * atom\n",
    "    * xelatex --output-directory out cv_of_shadi_alameddin.tex && cleanlatex\n",
    "\n",
    "* git\n",
    "    * gitkraken\n",
    "    * smartgit\n",
    "    * submodules [#TODO]()\n",
    "    git update-index --assume-unchanged [<file> ...](https://stackoverflow.com/questions/3319479/can-i-git-commit-a-file-and-ignore-its-content-changes)\n",
    "\n",
    "* atom\n",
    "    * language-latex:   apm install language-latex\n",
    "\n",
    "* nextcloud\n",
    "    * sync hidden & ignore: z_nosync* snap /home/alameddin/.*\n",
    "    * ls -ld .* >> _.sync-exclude.lst\n",
    "\n",
    "* fixfilenames\n",
    "\n",
    "* unison\n",
    "    * thunderbird\n",
    "    * ssh\n",
    "\n",
    "* hdf5\n",
    "    * hdfcompass\n",
    "\n",
    "\n",
    "visual studio code\n",
    "\n",
    "- [keyboard-shortcuts-by-category](https://www.jetbrains.com/help/pycharm/keyboard-shortcuts-by-category.html)\n",
    "- [using-code-editor](https://www.jetbrains.com/help/pycharm/using-code-editor.html)\n"
   ]
  },
  {
   "cell_type": "markdown",
   "source": [
    "sync? shift shift : store current layout as default\n",
    "\n",
    "## [Shortcuts](https://resources.jetbrains.com/storage/products/pycharm/docs/PyCharm_ReferenceCard.pdf)\n",
    "\n",
    "|Task|Shortcut|\n",
    "|----------|:-------------:|\n",
    "| all commands |  shift shift |\n",
    "||\n",
    "| comment/ uncomment |  ctrl + / |\n",
    "| tabs | alt+arrows or ctrl+tab |\n",
    "| scroll | ctrl+up |\n",
    "| vertical selection | alt+shift+V or alt+shift+drag |\n",
    "| delete line |    ctrl + shift + k   |\n",
    "| duplicate | ctrl + shift + d |\n",
    "| select similar | ctrl + d |\n",
    "| indentation | ctrl + [ or ctrl + ] |\n",
    "| move lines | ctrl + shift + arrows |\n",
    "| go to line | ctrl + g |\n",
    "| bookmarks | ctrl+shift+1 or f2 |\n",
    "| search | ctrl+F or R |\n",
    "| excute in console | f9 |\n",
    "| autocomplete | ctrl+shift+space or ctrl space space |\n",
    "| last edit place | ctrl+shift+backspace |\n",
    "| help | ctrl+q |\n",
    "| short help | ctrl+p |\n",
    "||\n",
    "| surround with | |\n",
    "| find usage | |\n",
    "| introduce variable | alt+ctrl+v |\n",
    "| rename/refactor | f2 or shift + f6|\n",
    "||\n",
    "| minimise | shift + esc |\n",
    "| terminal | f4 |\n",
    "| focus editor | alt+1 |\n",
    "| python or debug console | alt+2 |\n",
    "| maximize editor pane﻿| Ctrl+Shift+F12 |\n",
    "\n",
    "#\n",
    "yakuake f12\n",
    "cleanlatex\n",
    "fixfilenames"
   ],
   "metadata": {
    "collapsed": false,
    "pycharm": {
     "name": "#%% md\n"
    }
   }
  }
 ],
 "metadata": {
  "kernelspec": {
   "display_name": "Python 3",
   "language": "python",
   "name": "python3"
  },
  "language_info": {
   "codemirror_mode": {
    "name": "ipython",
    "version": 2
   },
   "file_extension": ".py",
   "mimetype": "text/x-python",
   "name": "python",
   "nbconvert_exporter": "python",
   "pygments_lexer": "ipython2",
   "version": "2.7.6"
  }
 },
 "nbformat": 4,
 "nbformat_minor": 0
}